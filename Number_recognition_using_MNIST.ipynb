{
  "nbformat": 4,
  "nbformat_minor": 0,
  "metadata": {
    "colab": {
      "provenance": []
    },
    "kernelspec": {
      "name": "python3",
      "display_name": "Python 3"
    },
    "language_info": {
      "name": "python"
    }
  },
  "cells": [
    {
      "cell_type": "code",
      "execution_count": 1,
      "metadata": {
        "id": "vv494PNhVnGU"
      },
      "outputs": [],
      "source": [
        "import numpy as np\n",
        "import keras\n",
        "from keras.datasets import mnist\n",
        "from keras.models import Model\n",
        "from keras.layers import Dense, Input\n",
        "from keras.layers import Conv2D, MaxPooling2D, Dropout, Flatten\n",
        "from keras import backend as k"
      ]
    },
    {
      "cell_type": "code",
      "source": [
        "(x_train, y_train), (x_test, y_test) = mnist.load_data()"
      ],
      "metadata": {
        "colab": {
          "base_uri": "https://localhost:8080/"
        },
        "id": "xezwj-L_W2Sk",
        "outputId": "c415d6ee-6a15-4497-abc9-b13818289212"
      },
      "execution_count": 2,
      "outputs": [
        {
          "output_type": "stream",
          "name": "stdout",
          "text": [
            "Downloading data from https://storage.googleapis.com/tensorflow/tf-keras-datasets/mnist.npz\n",
            "11490434/11490434 [==============================] - 1s 0us/step\n"
          ]
        }
      ]
    },
    {
      "cell_type": "code",
      "source": [
        "img_rows, img_cols=28, 28\n",
        "\n",
        "if k.image_data_format() == 'channels_first':\n",
        "  x_train = x_train.reshape(x_train.shape[0], 1, img_rows, img_cols)\n",
        "  x_test = x_test.reshape(x_test.shape[0], 1, img_rows, img_cols)\n",
        "  inpx = (1, img_rows, img_cols)\n",
        "\n",
        "else:\n",
        "  x_train = x_train.reshape(x_train.shape[0], img_rows, img_cols, 1)\n",
        "  x_test = x_test.reshape(x_test.shape[0], img_rows, img_cols, 1)\n",
        "  inpx = (img_rows, img_cols, 1)\n",
        "\n",
        "x_train = x_train.astype('float32')\n",
        "x_test = x_test.astype('float32')\n",
        "x_train /= 255\n",
        "x_test /= 255"
      ],
      "metadata": {
        "id": "csAAvIrQW-qb"
      },
      "execution_count": 3,
      "outputs": []
    },
    {
      "cell_type": "code",
      "source": [
        "y_train = keras.utils.to_categorical(y_train)\n",
        "y_test = keras.utils.to_categorical(y_test)"
      ],
      "metadata": {
        "id": "VXR5NceOXElN"
      },
      "execution_count": 4,
      "outputs": []
    },
    {
      "cell_type": "code",
      "source": [
        "inpx = Input(shape=inpx)\n",
        "layer1 = Conv2D(32, kernel_size=(3, 3), activation='relu')(inpx)\n",
        "layer2 = Conv2D(64, (3, 3), activation='relu')(layer1)\n",
        "layer3 = MaxPooling2D(pool_size=(3, 3))(layer2)\n",
        "layer4 = Dropout(0.5)(layer3)\n",
        "layer5 = Flatten()(layer4)\n",
        "layer6 = Dense(250, activation='sigmoid')(layer5)\n",
        "layer7 = Dense(10, activation='softmax')(layer6)"
      ],
      "metadata": {
        "id": "cvE1gEy5XJoB"
      },
      "execution_count": 5,
      "outputs": []
    },
    {
      "cell_type": "code",
      "source": [
        "model = Model([inpx], layer7)\n",
        "model.compile(optimizer=keras.optimizers.Adadelta(),\n",
        "\t\t\tloss=keras.losses.categorical_crossentropy,\n",
        "\t\t\tmetrics=['accuracy'])\n",
        "\n",
        "model.fit(x_train, y_train, epochs=12, batch_size=500)\n",
        "\n",
        "\n"
      ],
      "metadata": {
        "colab": {
          "base_uri": "https://localhost:8080/"
        },
        "id": "yQl_2CuEXRF8",
        "outputId": "e8523089-e7f7-4ed8-e715-4c90a1bf84b2"
      },
      "execution_count": 7,
      "outputs": [
        {
          "output_type": "stream",
          "name": "stdout",
          "text": [
            "Epoch 1/12\n",
            "120/120 [==============================] - 166s 1s/step - loss: 2.2749 - accuracy: 0.1137\n",
            "Epoch 2/12\n",
            "120/120 [==============================] - 160s 1s/step - loss: 2.2684 - accuracy: 0.1236\n",
            "Epoch 3/12\n",
            "120/120 [==============================] - 158s 1s/step - loss: 2.2616 - accuracy: 0.1423\n",
            "Epoch 4/12\n",
            "120/120 [==============================] - 160s 1s/step - loss: 2.2557 - accuracy: 0.1728\n",
            "Epoch 5/12\n",
            "120/120 [==============================] - 158s 1s/step - loss: 2.2491 - accuracy: 0.2113\n",
            "Epoch 6/12\n",
            "120/120 [==============================] - 160s 1s/step - loss: 2.2427 - accuracy: 0.2515\n",
            "Epoch 7/12\n",
            "120/120 [==============================] - 158s 1s/step - loss: 2.2363 - accuracy: 0.2911\n",
            "Epoch 8/12\n",
            "120/120 [==============================] - 161s 1s/step - loss: 2.2298 - accuracy: 0.3218\n",
            "Epoch 9/12\n",
            "120/120 [==============================] - 152s 1s/step - loss: 2.2227 - accuracy: 0.3515\n",
            "Epoch 10/12\n",
            "120/120 [==============================] - 153s 1s/step - loss: 2.2157 - accuracy: 0.3756\n",
            "Epoch 11/12\n",
            "120/120 [==============================] - 153s 1s/step - loss: 2.2084 - accuracy: 0.3956\n",
            "Epoch 12/12\n",
            "120/120 [==============================] - 153s 1s/step - loss: 2.2007 - accuracy: 0.4143\n"
          ]
        },
        {
          "output_type": "execute_result",
          "data": {
            "text/plain": [
              "<keras.callbacks.History at 0x780a3f5c7190>"
            ]
          },
          "metadata": {},
          "execution_count": 7
        }
      ]
    },
    {
      "cell_type": "code",
      "source": [
        "score = model.evaluate(x_test, y_test, verbose=0)\n",
        "print('loss=', score[0])\n",
        "print('accuracy=', score[1])"
      ],
      "metadata": {
        "colab": {
          "base_uri": "https://localhost:8080/"
        },
        "id": "5OGTUQ1njYgO",
        "outputId": "bc9148f0-a133-4e69-d466-91017ad1f80f"
      },
      "execution_count": 8,
      "outputs": [
        {
          "output_type": "stream",
          "name": "stdout",
          "text": [
            "loss= 2.192931652069092\n",
            "accuracy= 0.49380001425743103\n"
          ]
        }
      ]
    }
  ]
}